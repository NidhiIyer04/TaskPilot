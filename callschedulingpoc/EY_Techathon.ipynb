{
  "nbformat": 4,
  "nbformat_minor": 0,
  "metadata": {
    "colab": {
      "provenance": []
    },
    "kernelspec": {
      "name": "python3",
      "display_name": "Python 3"
    },
    "language_info": {
      "name": "python"
    }
  },
  "cells": [
    {
      "cell_type": "code",
      "source": [
        "def classify_query(text):\n",
        "    text = text.lower()\n",
        "    if \"due date\" in text or \"premium\" in text:\n",
        "        return \"due_date\"\n",
        "    elif \"claim\" in text:\n",
        "        return \"claim\"\n",
        "    elif \"renew\" in text:\n",
        "        return \"renewal\"\n",
        "    elif \"cancel\" in text or \"cancellation\" in text:\n",
        "        return \"cancellation\"\n",
        "    else:\n",
        "        return \"other\"\n"
      ],
      "metadata": {
        "id": "C_VyguCahjSw"
      },
      "execution_count": 1,
      "outputs": []
    },
    {
      "cell_type": "code",
      "source": [
        "from datetime import datetime\n",
        "\n",
        "def extract_due_date(text):\n",
        "    if \"due date\" in text.lower() or \"premium\" in text.lower():\n",
        "        return datetime.strptime(\"2025-02-15\", \"%Y-%m-%d\")\n",
        "    return None\n"
      ],
      "metadata": {
        "id": "GAQpYHEyhkSC"
      },
      "execution_count": 2,
      "outputs": []
    },
    {
      "cell_type": "code",
      "source": [
        "def analyze_sentiment(text):\n",
        "    text = text.lower()\n",
        "    if \"urgent\" in text or \"immediate\" in text:\n",
        "        return \"urgent\"\n",
        "    else:\n",
        "        return \"neutral\"\n"
      ],
      "metadata": {
        "id": "4NPWN4eEhnKt"
      },
      "execution_count": 3,
      "outputs": []
    },
    {
      "cell_type": "code",
      "source": [
        "from nltk.sentiment import SentimentIntensityAnalyzer\n",
        "import nltk\n",
        "\n",
        "nltk.download('vader_lexicon')\n",
        "sia = SentimentIntensityAnalyzer()\n",
        "\n",
        "def analyze_sentiment(text):\n",
        "    scores = sia.polarity_scores(text)\n",
        "    if scores['neg'] > 0.5:\n",
        "        return \"urgent\"\n",
        "    else:\n",
        "        return \"neutral\"\n"
      ],
      "metadata": {
        "colab": {
          "base_uri": "https://localhost:8080/"
        },
        "id": "4ifaNacuh7JZ",
        "outputId": "a8ea800f-6540-4431-c695-ecc55fd14fd7"
      },
      "execution_count": 4,
      "outputs": [
        {
          "output_type": "stream",
          "name": "stderr",
          "text": [
            "[nltk_data] Downloading package vader_lexicon to /root/nltk_data...\n"
          ]
        }
      ]
    },
    {
      "cell_type": "code",
      "execution_count": 5,
      "metadata": {
        "colab": {
          "base_uri": "https://localhost:8080/"
        },
        "id": "UrOqfUmzdocy",
        "outputId": "b3feefc2-73f2-4c8f-ba45-575e42506792"
      },
      "outputs": [
        {
          "output_type": "stream",
          "name": "stdout",
          "text": [
            "Call: I want to file a claim for my policy. It's urgent, please help me with the process., Priority: 80\n",
            "Call: I need to renew my policy. What is the procedure?, Priority: 60\n",
            "Call: Hi, this is Rahul Sharma. Can you tell me the due date for my health insurance premium? My policy number is 87543210., Priority: 50\n"
          ]
        }
      ],
      "source": [
        "from datetime import datetime\n",
        "\n",
        "def calculate_priority(call):\n",
        "    now = datetime.now()\n",
        "    priority = 0\n",
        "\n",
        "    type_of_query = classify_query(call['text_input'])\n",
        "    due_date = extract_due_date(call['text_input'])\n",
        "    sentiment = analyze_sentiment(call['text_input'])\n",
        "\n",
        "    if type_of_query == 'due_date':\n",
        "        days_until_due = (due_date - now).days if due_date else float('inf')\n",
        "        priority += 100 if days_until_due < 30 else 50\n",
        "    elif type_of_query == 'claim':\n",
        "        priority += 80\n",
        "    elif type_of_query in ['renewal', 'cancellation']:\n",
        "        priority += 60\n",
        "    else:\n",
        "        priority += 30\n",
        "\n",
        "    if sentiment == 'urgent':\n",
        "        priority += 50\n",
        "\n",
        "    return priority\n",
        "\n",
        "def schedule_calls(call_data):\n",
        "    calls_with_priority = [(call, calculate_priority(call)) for call in call_data]\n",
        "    return sorted(calls_with_priority, key=lambda x: x[1], reverse=True)\n",
        "\n",
        "call_data = [\n",
        "    {'text_input': \"Hi, this is Rahul Sharma. Can you tell me the due date for my health insurance premium? My policy number is 87543210.\"},\n",
        "    {'text_input': \"I want to file a claim for my policy. It's urgent, please help me with the process.\"},\n",
        "    {'text_input': \"I need to renew my policy. What is the procedure?\"},\n",
        "]\n",
        "\n",
        "sorted_calls = schedule_calls(call_data)\n",
        "for call, priority in sorted_calls:\n",
        "    print(f\"Call: {call['text_input']}, Priority: {priority}\")\n"
      ]
    }
  ]
}